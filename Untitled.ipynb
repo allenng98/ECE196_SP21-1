{
 "cells": [
  {
   "cell_type": "code",
   "execution_count": 2,
   "id": "premium-junction",
   "metadata": {},
   "outputs": [],
   "source": [
    "import matplotlib.pyplot as plt\n",
    "import numpy as np\n",
    "import pandas as pd"
   ]
  },
  {
   "cell_type": "code",
   "execution_count": 3,
   "id": "caroline-exchange",
   "metadata": {},
   "outputs": [],
   "source": [
    "df = pd.read_csv(\"spatial_self_identifying_hipster_dataset.csv\")"
   ]
  },
  {
   "cell_type": "code",
   "execution_count": 4,
   "id": "initial-panel",
   "metadata": {},
   "outputs": [
    {
     "data": {
      "text/html": [
       "<div>\n",
       "<style scoped>\n",
       "    .dataframe tbody tr th:only-of-type {\n",
       "        vertical-align: middle;\n",
       "    }\n",
       "\n",
       "    .dataframe tbody tr th {\n",
       "        vertical-align: top;\n",
       "    }\n",
       "\n",
       "    .dataframe thead th {\n",
       "        text-align: right;\n",
       "    }\n",
       "</style>\n",
       "<table border=\"1\" class=\"dataframe\">\n",
       "  <thead>\n",
       "    <tr style=\"text-align: right;\">\n",
       "      <th></th>\n",
       "      <th>BLOCKGROUP_ID</th>\n",
       "      <th>Self-Identifying Hipster</th>\n",
       "      <th>social_media_volume_percentile</th>\n",
       "    </tr>\n",
       "  </thead>\n",
       "  <tbody>\n",
       "    <tr>\n",
       "      <th>0</th>\n",
       "      <td>10010201001</td>\n",
       "      <td>-6.4258</td>\n",
       "      <td>0.2617</td>\n",
       "    </tr>\n",
       "    <tr>\n",
       "      <th>1</th>\n",
       "      <td>10010201002</td>\n",
       "      <td>-5.8507</td>\n",
       "      <td>0.2325</td>\n",
       "    </tr>\n",
       "    <tr>\n",
       "      <th>2</th>\n",
       "      <td>10010202001</td>\n",
       "      <td>-2.2181</td>\n",
       "      <td>0.3263</td>\n",
       "    </tr>\n",
       "    <tr>\n",
       "      <th>3</th>\n",
       "      <td>10010202002</td>\n",
       "      <td>-6.6762</td>\n",
       "      <td>0.6188</td>\n",
       "    </tr>\n",
       "    <tr>\n",
       "      <th>4</th>\n",
       "      <td>10010203001</td>\n",
       "      <td>-5.7239</td>\n",
       "      <td>0.1461</td>\n",
       "    </tr>\n",
       "  </tbody>\n",
       "</table>\n",
       "</div>"
      ],
      "text/plain": [
       "   BLOCKGROUP_ID  Self-Identifying Hipster  social_media_volume_percentile\n",
       "0    10010201001                   -6.4258                          0.2617\n",
       "1    10010201002                   -5.8507                          0.2325\n",
       "2    10010202001                   -2.2181                          0.3263\n",
       "3    10010202002                   -6.6762                          0.6188\n",
       "4    10010203001                   -5.7239                          0.1461"
      ]
     },
     "execution_count": 4,
     "metadata": {},
     "output_type": "execute_result"
    }
   ],
   "source": [
    "df.head()\n"
   ]
  },
  {
   "cell_type": "code",
   "execution_count": null,
   "id": "forced-floor",
   "metadata": {},
   "outputs": [],
   "source": []
  }
 ],
 "metadata": {
  "kernelspec": {
   "display_name": "Python 3",
   "language": "python",
   "name": "python3"
  },
  "language_info": {
   "codemirror_mode": {
    "name": "ipython",
    "version": 3
   },
   "file_extension": ".py",
   "mimetype": "text/x-python",
   "name": "python",
   "nbconvert_exporter": "python",
   "pygments_lexer": "ipython3",
   "version": "3.9.2"
  }
 },
 "nbformat": 4,
 "nbformat_minor": 5
}
